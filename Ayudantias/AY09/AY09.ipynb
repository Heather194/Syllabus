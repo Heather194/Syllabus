{
 "cells": [
  {
   "cell_type": "markdown",
   "id": "907c53ef",
   "metadata": {},
   "source": [
    "# Ayudantia 09:\n",
    "## WebServices y RegEx 💾\n",
    "\n",
    "\n",
    "### Ayudantes 👾\n",
    "- Sección 1: [Julián García](https://github.com/JJJGGGG)\n",
    "- Sección 2: [Clemente Campos](https://github.com/mskdancers)\n",
    "- Sección 3: [Diego Toledo](https://github.com/diegoftpxd)\n",
    "- Sección 4: [Julio Huerta](https://github.com/Julius9)\n",
    "- Sección 5: [Carlos Olguín](https://github.com/CarlangaUC)"
   ]
  },
  {
   "cell_type": "markdown",
   "id": "2a470916",
   "metadata": {},
   "source": [
    "### Introducción\n",
    "\n",
    "Esta es la última ayudantía del semestre! Ya hemos pasado por muchos temas, y en esta ayudantía veremos algunos conceptos un poco más avanzados, pero muy útiles para la vida laboral!\n",
    "\n",
    "En esta ayudantía veremos, más en detalle, APIs (desde el lado del cliente y algo del servidor) y expresiones regulares."
   ]
  },
  {
   "cell_type": "markdown",
   "id": "6c5e4b66",
   "metadata": {},
   "source": [
    "### Protocolo HTTP\n",
    "\n",
    "El protocolo HTTP es un protocolo de comunicación que está presente en todas partes en la Web. Al navegar a páginas web como Facebook, buscar historias de instagram, utilizar SIDING, se utiliza el protocolo HTTP por detrás. Veremos los métodos principales para realizar consultas con este protocolo."
   ]
  },
  {
   "cell_type": "markdown",
   "id": "3574325d",
   "metadata": {},
   "source": [
    "### Módulo Requests\n",
    "\n",
    "El módulo requests de python permite comunicarse con WebServices (Web APIs) usando el protocolo HTTP por detrás. La forma básica de acceder al módulo (después de instalar la librería) es importandolo, con el siguiente comando:"
   ]
  },
  {
   "cell_type": "code",
   "execution_count": 32,
   "id": "924dd474",
   "metadata": {},
   "outputs": [],
   "source": [
    "import requests"
   ]
  },
  {
   "cell_type": "markdown",
   "id": "6856d44c",
   "metadata": {},
   "source": [
    "### Métodos HTTP\n",
    "\n",
    "Existen 5 métodos principales en HTTP:\n",
    "\n",
    "* GET: se utiliza al consultar datos\n",
    "* POST: se utiliza para crear un dato\n",
    "* PATCH: se utiliza para hacer un update parcial de datos\n",
    "* PUT: se utiliza para hacer un update total de datos\n",
    "* DELETE: se utiliza para borrar datos\n",
    "\n",
    "Estos métodos se utilizan por convención para hacer distintas cosas, pero realmente se podría hacer todo sólo usando GET y POST.\n",
    "\n",
    "Para realizar requests GET o POST con el módulo de requests, debemos utilizar las funciones que provee el módulo:"
   ]
  },
  {
   "cell_type": "code",
   "execution_count": 5,
   "id": "02376842",
   "metadata": {},
   "outputs": [
    {
     "data": {
      "text/plain": [
       "<Response [200]>"
      ]
     },
     "execution_count": 5,
     "metadata": {},
     "output_type": "execute_result"
    }
   ],
   "source": [
    "response = requests.get(\"https://fakerapi.it/api/v1/books\")\n",
    "\n",
    "response"
   ]
  },
  {
   "cell_type": "markdown",
   "id": "d6fbbcd6",
   "metadata": {},
   "source": [
    "### Status Codes HTTP\n",
    "\n",
    "Las solicitudes HTTP siempre devuelven al menos un código de estado, dependiendo de qué pasó en el servidor. Existen 5 familias de códigos:\n",
    "\n",
    "* 2XX: Son códigos de éxito: por ejemplo, que se devolvieron los datos correctamente, que se creó correctamente una entidad, etc\n",
    "* 4XX: Son códigos de error de cliente: por ejemplo, que el usuario mandó contenido con un formato incorrecto, que se está intentando acceder a un recurso sin el usuario y contraseña correctos, etc\n",
    "* 5XX: Son códigos de error de servidor: principalmente, cuando hay un runtime error en el código de python, por ejemplo el típico ValueError, y no está manejado.\n",
    "\n",
    "Ignoraremos los códigos 1XX y 3XX, ya que se salen del scope de los contenidos de esta semana\n",
    "\n",
    "Algunos códigos comunes son:\n",
    "\n",
    "![200.jpg](images/200.jpg)\n",
    "![401.jpg](images/401.jpg)\n",
    "![404.jpg](images/404.jpg)\n",
    "![500.jpg](images/500.jpg)\n",
    "\n",
    "\n"
   ]
  },
  {
   "cell_type": "markdown",
   "id": "eb0f3625",
   "metadata": {},
   "source": [
    "### Envío de información\n",
    "\n",
    "Para enviar información, existen distintas formas. Veremos algunas de ellas\n",
    "\n",
    "#### Query Params\n",
    "Los query params son una forma sucinta de enviar información al servidor. Por lo general, estos se utilizan para filtrar consultas (por ejemplo, sólo buscar las personas que se llamen Pedro). Estos parámetros se añaden al final de la url, de esta forma:\n",
    "\n",
    "`https://fakerapi.it/api/v1/books?quantity=1`\n",
    "\n",
    "La forma de enviar esa información con el módulo requests es la siguiente:"
   ]
  },
  {
   "cell_type": "code",
   "execution_count": 7,
   "id": "6624b27f",
   "metadata": {},
   "outputs": [
    {
     "data": {
      "text/plain": [
       "<Response [200]>"
      ]
     },
     "execution_count": 7,
     "metadata": {},
     "output_type": "execute_result"
    }
   ],
   "source": [
    "response = requests.get(\"https://fakerapi.it/api/v1/books\", params={\"quantity\": 1})\n",
    "\n",
    "response"
   ]
  },
  {
   "cell_type": "markdown",
   "id": "c9bad2a1",
   "metadata": {},
   "source": [
    "#### Body\n",
    "El body está diseñado, en contraposición a los query params, para enviar datos más extensos. Es en el body que se añade la información de una nueva persona que se va a crear. El uso más común es agregar un JSON con información, de esta forma."
   ]
  },
  {
   "cell_type": "code",
   "execution_count": 21,
   "id": "55075330",
   "metadata": {},
   "outputs": [
    {
     "data": {
      "text/plain": [
       "<Response [200]>"
      ]
     },
     "execution_count": 21,
     "metadata": {},
     "output_type": "execute_result"
    }
   ],
   "source": [
    "import json\n",
    "\n",
    "response = requests.post(\"https://api.restful-api.dev/objects\", json={\"name\": \"hola\"})\n",
    "\n",
    "response"
   ]
  },
  {
   "cell_type": "markdown",
   "id": "3b1ca905",
   "metadata": {},
   "source": [
    "#### Headers\n",
    "\n",
    "Para enviar un json con información, se debe agregar un 'header', que es un pedazo de información que indica al servidor información que no es parte de la consulta, pero que sirve para que el servidor sepa como manejarla. En el caso específico de enviar un json, se debe enviar la data junto con el header `content-type: application/json`. Esto se agrega a los headers de la solicitud de la siguiente forma:"
   ]
  },
  {
   "cell_type": "code",
   "execution_count": 33,
   "id": "3ccc5304",
   "metadata": {},
   "outputs": [
    {
     "data": {
      "text/plain": [
       "<Response [200]>"
      ]
     },
     "execution_count": 33,
     "metadata": {},
     "output_type": "execute_result"
    }
   ],
   "source": [
    "import json\n",
    "\n",
    "response = requests.post(\"https://api.restful-api.dev/objects\", json={\"name\": \"hola\"}, headers={'content-type': 'application/json'})\n",
    "\n",
    "response"
   ]
  },
  {
   "cell_type": "markdown",
   "id": "6cc18c51",
   "metadata": {},
   "source": [
    "### Retorno de una consulta\n",
    "\n",
    "Toda consulta a un servidor tiene una respuesta. Hasta ahora, sólo estuvimos viendo los códigos que retornaba, pero podemos acceder a lo que nos devolvió el servidor mediante el módulo de requests de python"
   ]
  },
  {
   "cell_type": "code",
   "execution_count": 16,
   "id": "f53d2324",
   "metadata": {},
   "outputs": [
    {
     "data": {
      "text/plain": [
       "'{\"id\":\"ff8081818fb998eb018fccc8da1c2467\",\"name\":\"hola\",\"createdAt\":\"2024-05-31T03:54:26.204+00:00\",\"data\":null}'"
      ]
     },
     "execution_count": 16,
     "metadata": {},
     "output_type": "execute_result"
    }
   ],
   "source": [
    "response.text"
   ]
  },
  {
   "cell_type": "markdown",
   "id": "0e701042",
   "metadata": {},
   "source": [
    "También tenemos una forma fácil de convertir a un diccionario lo que nos devuelve la API, si es que está en formato JSON:"
   ]
  },
  {
   "cell_type": "code",
   "execution_count": 17,
   "id": "6bcb2ff7",
   "metadata": {},
   "outputs": [
    {
     "data": {
      "text/plain": [
       "{'id': 'ff8081818fb998eb018fccc8da1c2467',\n",
       " 'name': 'hola',\n",
       " 'createdAt': '2024-05-31T03:54:26.204+00:00',\n",
       " 'data': None}"
      ]
     },
     "execution_count": 17,
     "metadata": {},
     "output_type": "execute_result"
    }
   ],
   "source": [
    "response.json()"
   ]
  },
  {
   "cell_type": "markdown",
   "id": "7b137626",
   "metadata": {},
   "source": [
    "### Lado Servidor (con flask)\n",
    "\n",
    "Todas las solicitudes que hicimos con python llegan a algún servidor, si tenemos internet. Veremos cómo se manejan las principales cosas que hicimos en el cliente, pero desde el lado del servidor.\n",
    "\n",
    "### Métodos y rutas\n",
    "\n",
    "Al llamar a una ruta en el servidor, el servidor ejecuta un código particular. Ese está definido en una función, la que debemos ejecutar cuando se haga una solicitud http a ese lugar. Si queremos tener una ruta que se llame al hacer una request GET a `<base-url>/personas` (por ejemplo, `http://localhost:5000/personas`), el servidor será de esta forma:\n",
    "\n",
    "```py\n",
    "@app.route(\"/personas\",methods=['GET'])\n",
    "def devolver_personas():\n",
    "    ...\n",
    "```\n",
    "\n",
    "### Devolución de un JSON\n",
    "\n",
    "Si por ejemplo la ruta de personas devuelve un JSON con la lista de personas, el código podría ser este\n",
    "```py\n",
    "@app.route(\"/personas\",methods=['GET'])\n",
    "def devolver_personas():\n",
    "    personas = [\n",
    "        {'id': 1, 'nombre': 'Pepito'},\n",
    "        {'id': 2, 'nombre': 'Juanito'},\n",
    "        {'id': 3, 'nombre': 'Pepita'},\n",
    "        {'id': 4, 'nombre': 'Juanita'}\n",
    "    ]\n",
    "    return personas\n",
    "```\n",
    "\n",
    "### Status codes\n",
    "Para devolver códigos de estado (como 200, 201, 404), se devuelven agregando una coma luego del return, y el código a devolver. El código `200` está implícito, es decir, si no hay código se retorna `200`\n",
    "```py\n",
    "@app.route(\"/personas\",methods=['GET'])\n",
    "def devolver_personas():\n",
    "    personas = [\n",
    "        {'id': 1, 'nombre': 'Pepito'},\n",
    "        {'id': 2, 'nombre': 'Juanito'},\n",
    "        {'id': 3, 'nombre': 'Pepita'},\n",
    "        {'id': 4, 'nombre': 'Juanita'}\n",
    "    ]\n",
    "    return personas, 200\n",
    "```\n",
    "\n",
    "### Recepción de query params\n",
    "Para recibir query params enviados desde el cliente con flask, debemos usar `request.args`. Por ejemplo, para filtrar todas las personas que tienen un nombre similar a 'Juan', este sería el código del servidor:\n",
    "```py\n",
    "@app.route(\"/personas\",methods=['GET'])\n",
    "def devolver_personas():\n",
    "    personas = [\n",
    "        {'id': 1, 'nombre': 'Pepito'},\n",
    "        {'id': 2, 'nombre': 'Juanito'},\n",
    "        {'id': 3, 'nombre': 'Pepita'},\n",
    "        {'id': 4, 'nombre': 'Juanita'}\n",
    "    ]\n",
    "    filter = request.args.get(\"name\")\n",
    "    if filter:\n",
    "        personas = [p for p in personas if filter in p['nombre']]\n",
    "    return personas, 200\n",
    "```\n",
    "\n",
    "Y enviaríamos desde el cliente una request de esta forma:\n",
    "\n",
    "```py\n",
    "requests.get(BASE_URL + \"/personas\", params={'name': 'Juan'})\n",
    "```\n",
    "\n",
    "### Recepción de body (en json)\n",
    "Si queremos crear una nueva persona, queremos enviar un nombre de la persona. Para eso, necesitamos enviar la información en formato json, en una solicitud con método post, y eso debe ser recibido desde el servidor. El código del servidor para ese fin sería de esta forma:\n",
    "\n",
    "```py\n",
    "@app.route(\"/personas\",methods=['POST'])\n",
    "def crear_persona():\n",
    "    body = request.get_json()\n",
    "    nombre = body['nombre']\n",
    "    # Crear la persona ...\n",
    "    \n",
    "    ...\n",
    "    \n",
    "    \n",
    "    return persona, 201\n",
    "\n",
    "```\n",
    "\n",
    "Y desde el cliente, se enviaría la request de esta forma:\n",
    "\n",
    "```py\n",
    "requests.post(BASE_URL + \"/personas\", json={'nombre': nombre}, headers={'content-type': 'application/json'})\n",
    "```"
   ]
  },
  {
   "cell_type": "markdown",
   "id": "e0883a2c",
   "metadata": {},
   "source": [
    "### RegEx\n",
    "\n",
    "Tomemos un string cualquiera, y llamemosle `s`. Digamos que queremos contar la cantidad de letras 'a' en ese string. Una forma fácil de hacer eso sería de esta forma:"
   ]
  },
  {
   "cell_type": "code",
   "execution_count": 2,
   "id": "1df52037",
   "metadata": {},
   "outputs": [
    {
     "data": {
      "text/plain": [
       "21"
      ]
     },
     "execution_count": 2,
     "metadata": {},
     "output_type": "execute_result"
    }
   ],
   "source": [
    "s = \"aaabbbabaabbbaaabababbbaabbbbaababababaabba\"\n",
    "\n",
    "sum = 0\n",
    "for letter in s:\n",
    "    if letter == 'a':\n",
    "        sum += 1\n",
    "        \n",
    "sum"
   ]
  },
  {
   "cell_type": "markdown",
   "id": "4a002fab",
   "metadata": {},
   "source": [
    "O bien de esta forma:"
   ]
  },
  {
   "cell_type": "code",
   "execution_count": null,
   "id": "709b8462",
   "metadata": {},
   "outputs": [],
   "source": [
    "s = \"aaabbbabaabbbaaabababbbaabbbbaababababaabba\"\n",
    "\n",
    "sum = len([l for l in s if l == 'a'])\n",
    "\n",
    "sum"
   ]
  },
  {
   "cell_type": "markdown",
   "id": "62a99152",
   "metadata": {},
   "source": [
    "Pero ahora, digamos que queremos contar la cantidad de letras 'a' que están seguidas de al menos 3 letras 'b'. Esto se empieza a complicar al intentar hacerlo por código:"
   ]
  },
  {
   "cell_type": "code",
   "execution_count": 14,
   "id": "d76b03f8",
   "metadata": {},
   "outputs": [
    {
     "data": {
      "text/plain": [
       "4"
      ]
     },
     "execution_count": 14,
     "metadata": {},
     "output_type": "execute_result"
    }
   ],
   "source": [
    "s = \"baaabbbabaabbbaaabababbbaabbbbaababababaabba\"\n",
    "\n",
    "sum = 0\n",
    "for i, letter in enumerate(s):\n",
    "    if letter == 'a':\n",
    "        if i+3 < len(s):\n",
    "            if s[i+1] == 'b' and s[i+2] == 'b' and s[i+3] == 'b':\n",
    "                sum += 1\n",
    "        \n",
    "sum"
   ]
  },
  {
   "cell_type": "markdown",
   "id": "c9266ba7",
   "metadata": {},
   "source": [
    "Y podríamos querer patrones más complejos aún, como por ejemplo, encontrar todas las posiciones en las que una letra 'a' está seguida de una cantidad arbitraria (no cero) de letras 'a', luego 3 letras 'b', que ya se empieza a hacer engorroso por código. Para este tipo de cosas, se inventaron las RegEx, que son una forma de buscar patrones dentro de strings.\n",
    "\n",
    "Los regex son un tipo especial de strings, que están disponibles en muchos lenguajes de programación. Tienen una sintáxis particular, que permite buscar una gran cantidad de patrones distintos dentro de los strings. Algunos caracteres especiales comunes son:\n",
    "\n",
    "* `.`: Hace 'match' de cualquier caracter\n",
    "* `*`: Repite lo anterior entre 0 y infinitas veces\n",
    "* `(<algo acá>)`: Captura lo que hay dentro de los paréntesis en un grupo. Es una forma de decir que eso es lo que realmente nos importa guardar.\n",
    "\n",
    "Y hay otros que veremos a medida que avanza la ayudantía.\n",
    "\n",
    "Para usar RegEx en python, debemos importar el módulo `re`. Para los strings de RegEx, a veces se utilizan los raw strings `r'string'`, ya que permiten escribir caracteres especiales sin escaparlos."
   ]
  },
  {
   "cell_type": "code",
   "execution_count": 30,
   "id": "7e06a1e0",
   "metadata": {},
   "outputs": [
    {
     "data": {
      "text/plain": [
       "[<re.Match object; span=(1, 7), match='aaabbb'>,\n",
       " <re.Match object; span=(2, 7), match='aabbb'>,\n",
       " <re.Match object; span=(3, 7), match='abbb'>,\n",
       " <re.Match object; span=(9, 14), match='aabbb'>,\n",
       " <re.Match object; span=(10, 14), match='abbb'>,\n",
       " <re.Match object; span=(20, 24), match='abbb'>,\n",
       " <re.Match object; span=(24, 29), match='aabbb'>,\n",
       " <re.Match object; span=(25, 29), match='abbb'>]"
      ]
     },
     "execution_count": 30,
     "metadata": {},
     "output_type": "execute_result"
    }
   ],
   "source": [
    "import re\n",
    "\n",
    "coincidencias = []\n",
    "\n",
    "pat = re.compile(r'(a)a*bbb')\n",
    "\n",
    "i=0\n",
    "while i < len(s):\n",
    "    m = pat.search(s, i)\n",
    "    if m:\n",
    "        coincidencias.append(m)\n",
    "        i = m.span()[0] + 1\n",
    "    else:\n",
    "        i += 1\n",
    "\n",
    "coincidencias"
   ]
  },
  {
   "cell_type": "markdown",
   "id": "fb64c300",
   "metadata": {},
   "source": [
    "Existen varios métodos en la librería `re`, pero los que veremos en el curso son:\n",
    "* `re.match()`\n",
    "* `re.fullmatch()`\n",
    "* `re.search()`\n",
    "* `re.sub()`\n",
    "* `re.split()`"
   ]
  },
  {
   "cell_type": "markdown",
   "id": "afbbdc30",
   "metadata": {},
   "source": [
    "## Actividad: DCCampaña de búsqueda de ayudantes\n",
    "\n",
    "Se acerca el final del semestre, y empieza la búsqueda de ayudantes. El cuerpo docente de Programación Avanzada te ha pedido que hagas una aplicación para realizar consultas a una Web API, la que permite listar, crear y editar los ayudantes del curso. Ya está hecha toda la parte visual de la aplicación, pero te necesitan para que programes las solicitudes al servidor. Más especificamente, necesitan que implementes los siguientes métodos:\n",
    "\n",
    "* `ApiClient.get_ayudantes_list`: Busca la lista de ayudantes en el servidor y la retorna\n",
    "* `ApiClient.get_ayudante_by_id`: Busca un ayudante en el servidor con la id pedida y lo retorna\n",
    "* `ApiClient.create_ayudante`: Crea un nuevo ayudante en el servidor con el nombre, apellido y num alumno deseados y los retorna\n",
    "* `ApiClient.fill_motivación`: Añade la motivación para un ayudante\n",
    "* `ApiClient.asignar_veredicto`: Asigna un veredicto al ayudante\n",
    "\n",
    "Se debe revisar el código de estado devuelto por el servidor en cada caso, y en caso de no ser 2XX, devolver `None`\n",
    "\n",
    "Para completar estos métodos, es necesario que revisen el archivo `Api/app.py` que contiene la declaración de las rutas. El servidor está contenido en la url: https://ay09-avanzada-server.onrender.com/\n",
    "\n",
    "También se debe efectuar algo de validación de la creación de un nuevo usuario en el cliente. Para eso, se deben completar las RegEx `REGEX_NOMBRE`, `REGEX_APELLIDO` y `REGEX_N_ALUMNO` en el archivo `constantes_cliente.py`. Las RegEx debenseguir las siguientes especificaciones:\n",
    "* `REGEX_NOMBRE` debe restringir que el nombre sea una sola palabra sin espacios\n",
    "* `REGEX_APELLIDO` debe restringir que el apellido sea una sola palabra sin espacios\n",
    "* `REGEX_NOMBRE` debe restringir que el número de alumno tenga el formato de número de alumno. Es decir, de la forma `12345678` o `1234567J`.\n",
    "\n",
    "\n",
    "Además, se debe implementar la función `revisar_regex`, que toma una regex y un string, y verifica si el string cumple la regex, devolviendo `True` o `False`."
   ]
  },
  {
   "cell_type": "code",
   "execution_count": null,
   "id": "7b61245d",
   "metadata": {},
   "outputs": [],
   "source": []
  }
 ],
 "metadata": {
  "kernelspec": {
   "display_name": "Python 3 (ipykernel)",
   "language": "python",
   "name": "python3"
  },
  "language_info": {
   "codemirror_mode": {
    "name": "ipython",
    "version": 3
   },
   "file_extension": ".py",
   "mimetype": "text/x-python",
   "name": "python",
   "nbconvert_exporter": "python",
   "pygments_lexer": "ipython3",
   "version": "3.10.12"
  }
 },
 "nbformat": 4,
 "nbformat_minor": 5
}
