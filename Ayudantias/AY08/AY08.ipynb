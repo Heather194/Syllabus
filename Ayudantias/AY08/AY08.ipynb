{
 "cells": [
  {
   "cell_type": "markdown",
   "metadata": {},
   "source": [
    "# Ayudantia 08:\n",
    "## Networking 💾\n",
    "\n",
    "\n",
    "### Ayudantes 👾\n",
    "- Sección 1: [Julián García](https://github.com/JJJGGGG)\n",
    "- Sección 2: [Clemente Campos](https://github.com/mskdancers)\n",
    "- Sección 3: [Diego Toledo](https://github.com/diegoftpxd)\n",
    "- Sección 4: [Julio Huerta](https://github.com/Julius9)\n",
    "- Sección 5: [Carlos Olguín](https://github.com/CarlangaUC)"
   ]
  },
  {
   "cell_type": "markdown",
   "metadata": {},
   "source": [
    "## Introducción\n",
    "\n",
    "Como ya pudimos ver la semana pasada, la información en el computador es guardada en bytes. Esta forma de presentar la información es la más básica para los computadores y por tanto será la que ocuparemos para comunicarlos. En esta ayudantía repasaremos el concepto de neetworking, que es un concepto muy poderoso dentro de la computación que nos permite generar comunicación entre 2 o más computadores diferentes."
   ]
  },
  {
   "cell_type": "markdown",
   "metadata": {},
   "source": [
    "## Elementos básicos\n",
    "\n",
    "## Ip\n",
    "Las ip son la forma de identidicar de forma única a un cada computador, esto quiere decir que es la forma con la que nosotros vamos a poder buscar una máquina es específico para poder enviar mensajes.\n",
    "\n",
    "## Puerto\n",
    "Nosotros cuando nos conectamos a cierta máquina mediante la **ip**, necesitamos especificar a que puerto nos estamos uniendo. Esto debido a que un computador cuenta con **miles** de puertos y cada uno puede ser utilizado por una aplicación a la vez. De esta forma nosotros podemos saber que nos estamos conectando a la aplicación correcta y comunicarnos de forma efectiva.\n"
   ]
  },
  {
   "cell_type": "markdown",
   "metadata": {},
   "source": [
    "## Protocolo de comunicación\n",
    "Al hacer uso de networkin tenemos que hacer uso de un protocolo de comunicación. Esto se puede entender como el estandar que van a cumplir los computadores para enviarse los mensajes. Los protocolos principales son:\n",
    "- **TCP**: Este método prioriza la confiabilidad por sobre la rapidez. Esto quiere decir que nos asegura que **todos los paquetes llegan de forma integra** al receptor. Es útil para cuando la información debe llegar 100% correcta. Nadie quiere que una tarea enviada en canvas tenga un descuento porque un par de bites del archivo se envien mal de forma aleatoria.\n",
    "  \n",
    "- **UDP**: Este protocolo prioriza la rapidez por sobre la confiabilidad. Es un protocólo más rápido que TCP pero que no asegura que toda la información llegue perfectamente. Es útil cuando la perdida de un poco de información no sea grave, por ejemplo si estás viendo un video en youtube no es conveniente que el video cargue más lento solo para que unos pocos pixeles se vean del color indicado.\n",
    "\n",
    "\n",
    "\n",
    "*De ahora en adelante vamos a utilizar el protocolo TCP*"
   ]
  },
  {
   "cell_type": "markdown",
   "metadata": {},
   "source": [
    "## Cliente\n",
    "Mucha teoría por hoy 😴. ahora llevemos esto a la práctica. Para eso el primer paso es crear un Socket. Un socket es un objeto de python el cual se puede entender como la puerta de entrada y salida de información. \n",
    "- ¿Quiero enviar un mensaje? ➜ Socket \n",
    "- ¿Quiero recibir un mensaje? ➜ Socket\n",
    "  \n",
    "Un socket se genera de la siguiente manera: \n",
    "\n",
    "*Para que los ejemplos de cliente funcionen porfavor correr el archivo resumen_servidor.py*"
   ]
  },
  {
   "cell_type": "code",
   "execution_count": 1,
   "metadata": {},
   "outputs": [],
   "source": [
    "#Importamos la librería socket\n",
    "import socket \n",
    "\n",
    "#Generamos el objeto\n",
    "sock = socket.socket(socket.AF_INET, socket.SOCK_STREAM)\n",
    "\n",
    "#El primer elemento de la tupla nos dice si ocuparemos las ip en formato IPv4 o IPv6\n",
    "#AF_INET -> IPv4\n",
    "#AF_INET6 -> IPv6\n",
    "\n",
    "#El segundo elemento de la tupla nos dice si ocuparemos los protocolos TCP o UDP\n",
    "#SOCK_STREAM ->  TCP\n",
    "#SOCK_DGRAM -> UDP\n"
   ]
  },
  {
   "cell_type": "markdown",
   "metadata": {},
   "source": [
    "Ahora debemos decir a quien nos queremos conectar"
   ]
  },
  {
   "cell_type": "code",
   "execution_count": 2,
   "metadata": {},
   "outputs": [],
   "source": [
    "#Ponemos una TUPLA con (ip, puerto) \n",
    "\n",
    "host = socket.gethostname() #En este caso especificamos que la ip será la nuestra\n",
    "port = 8726 #Elegimos el puerto con el que queramos conectarnos \n",
    "\n",
    "sock.connect((host, port))"
   ]
  },
  {
   "cell_type": "markdown",
   "metadata": {},
   "source": [
    "Finalmente para mandar mensajes ocupamos send o sendall"
   ]
  },
  {
   "cell_type": "code",
   "execution_count": 3,
   "metadata": {},
   "outputs": [
    {
     "name": "stdout",
     "output_type": "stream",
     "text": [
      "Logramos enviar efectivamente 68 bytes\n"
     ]
    }
   ],
   "source": [
    "\n",
    "#Con send mandamos el mensaje y nos dice cuantos bytes fallaron en enviarse\n",
    "mensaje = \"Bueeenas, aquí mandando mi request para saber lo byts que se envian\"\n",
    "mensaje_bytes = mensaje.encode('utf-8') #pasamos todo a bytes\n",
    "enviados_efectivamente = sock.send(mensaje_bytes)\n",
    "print(f\"Logramos enviar efectivamente {enviados_efectivamente} bytes\")"
   ]
  },
  {
   "cell_type": "code",
   "execution_count": 4,
   "metadata": {},
   "outputs": [
    {
     "name": "stdout",
     "output_type": "stream",
     "text": [
      "None\n"
     ]
    }
   ],
   "source": [
    "#Podemos tener varios socket a la vez en un código\n",
    "sock = socket.socket(socket.AF_INET, socket.SOCK_STREAM)\n",
    "host = socket.gethostname()\n",
    "sock.connect((host, port))\n",
    "\n",
    "#En cambio sendall nos asegura al 100% que los mensajes se van a enviar completos.\n",
    "mensaje = \"Hola servidor, estamos probando como funcionas :)\"\n",
    "mensaje_bytes = mensaje.encode('utf-8') #pasamos todo a bytes\n",
    "sock.sendall(mensaje_bytes)"
   ]
  },
  {
   "cell_type": "markdown",
   "metadata": {},
   "source": [
    "Finalmente para saber la respuesta del servidor ocuapos recv especificando cuandos bytes se deben enviar."
   ]
  },
  {
   "cell_type": "code",
   "execution_count": 5,
   "metadata": {},
   "outputs": [
    {
     "name": "stdout",
     "output_type": "stream",
     "text": [
      "\n",
      "Hola! soy el servidor. Gracias por conectarte\n",
      "Acabo de recibir el mensaje: Hola servidor, estamos probando como funcionas :)\n"
     ]
    }
   ],
   "source": [
    "\n",
    "data_bytes = sock.recv(4096) #Recibimos hasta 4096 bytes de respuesta (si sobran no importa)\n",
    "data_str = data_bytes.decode(\"utf-8\")\n",
    "print(data_str) #Veamos que nos responden\n",
    "\n",
    "#Cerramos la conexión SIEMPRE CIERREN SUS CONEXIONES, sino se ocupan recursos en su computador :(\n",
    "sock.close()"
   ]
  },
  {
   "cell_type": "markdown",
   "metadata": {},
   "source": [
    "## Servidor\n",
    "\n",
    "El código anterior necesita que exista un computador esperando conexiones y que le de una respuesta. Se puede entender que el cliente realiza **requests** y **consume los servicios** del servidor. Ahora vamos a aprender a crear un servidor que espere la llegada de clientes y que responda a las solicitudes que se le realicen.\n",
    "\n",
    "Como ya se dijo, los socket son la forma de enviar y recibir mensajes. Así que lo primero va a ser obtener nuestro socket."
   ]
  },
  {
   "cell_type": "code",
   "execution_count": 6,
   "metadata": {},
   "outputs": [],
   "source": [
    "import socket\n",
    "#Creamos nuestro socket\n",
    "sock = socket.socket(socket.AF_INET, socket.SOCK_STREAM)\n",
    "\n",
    "#Conseguimos nuestro propio hostname que va a hacer el trabajo de ip\n",
    "host = socket.gethostname()\n",
    "\n",
    "#Especificamos el puerto en el que los clientes tendrán que conectarse\n",
    "port = 5732\n",
    "\n",
    "#Conectamos nuestro socket a la ip y puerto.\n",
    "sock.bind((host, port))"
   ]
  },
  {
   "cell_type": "code",
   "execution_count": 7,
   "metadata": {},
   "outputs": [],
   "source": [
    "#El código se queda pegado hasta que llegue un cliente\n",
    "sock.listen()\n",
    "\n",
    "#Ahora aceptamos a quien llegue\n",
    "\n",
    "#Socket_cliente es el socket para comunicarnos con este cliente en específico\n",
    "socket_cliente, address = sock.accept()\n",
    "\n",
    "#aquí va la lógica del servidor"
   ]
  },
  {
   "cell_type": "markdown",
   "metadata": {},
   "source": [
    "# DDChat: El legado\n",
    "\n",
    "¡Que horror! , como nadie esta viendo el telegram ultimamente los ayudantes dicidieron crear su propia version de mensajeria en Python empleando Networking y asociados, con el objetivo de que los usuarios envien mensajes a un servidor y este lo retransmita a todos sus usuarios, para esto deberemos rellenar un par de metodos que faltan para completar la plataforma. \n",
    "[ Basado fuertemente en un ejercicio de 2023-1 (: ]"
   ]
  },
  {
   "cell_type": "markdown",
   "metadata": {},
   "source": [
    "### Por Implementar:\n",
    "\n",
    "1. `def __init__(self, port, host)` de la clase `Servidor` en el archivo `server.py`\n",
    "    * Deberas asociar el socket del servidor para escuchar con `bind_listen`, para luego aceptar conexiones con `accept_connections`.\n",
    "\n",
    "2. `def accept_connections_thread(self):` de la clase `Servidor` en el archivo `server.py`\n",
    "    * Buscaras aceptar a distintos clientes, para esto primeramente crea un *Loop* que permita al servidor aceptar clientes en todo momento.\n",
    "    * Una vez aceptes a un cliente, deberas añadirlo a **self.sockets** \n",
    "    * Finalmente deberas crear un **Thread** , mas especificamente un **daemon** y con parametro **args** siendo este el socket del cliente, con funcion objetivo `listen_client_thread` y correr el thread.\n",
    "\n",
    "3. `def listen_client_thread(self, client_socket):` de la clase `Servidor` en el archivo `server.py`\n",
    "    * Crea un *Loop* que recibe un socket de un usuario y maneja sus mensajes, primeramente recibe el largo del mensaje a recibir \n",
    "    * Considerando ese largo del mensaje, recibe el mensaje adecuadamente manejando el largo del mismo.\n",
    "    * Intenta decodificar el mensaje y cargalo con **JSON** para luego manejar el mensaje \n",
    "    * En caso de `json.decoder.JSONDecodeError` significa que el usuario fue eliminado y por ende debes borrarlo de **self.sockets** y romper el loop.\n",
    "\n",
    "4. `def __init__(self, port, host):` de la clase `Cliente` en el archivo `cliente.py`\n",
    "    * Debera intentar conectarse con el metodo `self.connect_to_server` para luego iniciar el manejar la conexion internamente con `self.initBackend` y finalmente escuchar al servidor con `self.listen`\n",
    "    * En caso de haber `ConnectionError` debera imprimir un mensaje de error al conectar junto a cerrar el socket del cliente y setear `self.isConnected` en `false`\n",
    "\n",
    "5. `def send(self, msg):` de la clase `Cliente` en el archivo `cliente.py`\n",
    "    * Primeramente recibe un mensaje al cual habra que realizar **.dumps()** con **JSON** para luego codificar.\n",
    "    * Se debera mandar como mensaje la suma del **largo** del json codificado en 4 bytes mas especificamente con orden 'big', para luego sumarle el mensaje ya codificado.\n",
    "\n",
    "6. Finalmente debermos conectar diversas señales en el archivo `main.py`:\n",
    "\n",
    "    - **send_username** de cliente con **get_username** de window. \n",
    "    - **update_lobby_chat**  de cliente con **update_chat** de window.\n",
    "    - **send_msg_signal** de window con **recive_msg_from_lobby** de cliente.\n",
    "    \n",
    "Finalmente deberemos correr el servidor del archivo `servidor.py` y cada cliente individualmente con\n",
    "`main.py` especificando el nombre a usar en consola (**segundo argumento en consola**) ^^.\n"
   ]
  },
  {
   "cell_type": "markdown",
   "metadata": {},
   "source": []
  }
 ],
 "metadata": {
  "kernelspec": {
   "display_name": "Python 3",
   "language": "python",
   "name": "python3"
  },
  "language_info": {
   "codemirror_mode": {
    "name": "ipython",
    "version": 3
   },
   "file_extension": ".py",
   "mimetype": "text/x-python",
   "name": "python",
   "nbconvert_exporter": "python",
   "pygments_lexer": "ipython3",
   "version": "3.10.6"
  }
 },
 "nbformat": 4,
 "nbformat_minor": 2
}
